{
 "cells": [
  {
   "cell_type": "markdown",
   "metadata": {},
   "source": [
    "### Autoencoders - Practice with mnist dataset"
   ]
  },
  {
   "cell_type": "markdown",
   "metadata": {},
   "source": [
    "***1) Simplest Autoencoder with a single fully connected neural layer as encoder and decoder***"
   ]
  },
  {
   "cell_type": "code",
   "execution_count": 1,
   "metadata": {},
   "outputs": [
    {
     "name": "stderr",
     "output_type": "stream",
     "text": [
      "Using TensorFlow backend.\n"
     ]
    }
   ],
   "source": [
    "import keras\n",
    "from keras import layers\n",
    "from keras.datasets import mnist\n",
    "from keras.utils import plot_model\n",
    "import numpy as np\n",
    "import matplotlib.pyplot as plt"
   ]
  },
  {
   "cell_type": "markdown",
   "metadata": {},
   "source": [
    "*Let's prepare out input data first. We will normalize all the values between 0 and 1 and we will flatten the 28x28 images into vectors of size 784.*"
   ]
  },
  {
   "cell_type": "code",
   "execution_count": 2,
   "metadata": {},
   "outputs": [],
   "source": [
    "(x_train,y_train),(x_test,y_test) = mnist.load_data()\n",
    "\n",
    "# normalizing the values between 0 and 1\n",
    "x_train = x_train.astype('float32')/255\n",
    "x_test = x_test.astype('float32')/255"
   ]
  },
  {
   "cell_type": "code",
   "execution_count": 3,
   "metadata": {},
   "outputs": [
    {
     "name": "stdout",
     "output_type": "stream",
     "text": [
      "(60000, 28, 28)\n",
      "(10000, 28, 28)\n"
     ]
    }
   ],
   "source": [
    "print(x_train.shape)\n",
    "print(x_test.shape)"
   ]
  },
  {
   "cell_type": "code",
   "execution_count": 4,
   "metadata": {},
   "outputs": [],
   "source": [
    "# Converting to 1D Array (Vector respresentation)\n",
    "x_train = x_train.reshape(-1, np.prod(x_train.shape[1:]))\n",
    "x_test = x_test.reshape(-1, np.prod(x_test.shape[1:]))"
   ]
  },
  {
   "cell_type": "code",
   "execution_count": 5,
   "metadata": {},
   "outputs": [
    {
     "name": "stdout",
     "output_type": "stream",
     "text": [
      "(60000, 784)\n",
      "(10000, 784)\n"
     ]
    }
   ],
   "source": [
    "print(x_train.shape)\n",
    "print(x_test.shape)"
   ]
  },
  {
   "cell_type": "code",
   "execution_count": 12,
   "metadata": {},
   "outputs": [],
   "source": [
    "# Architecture of Autoencoder\n",
    "\n",
    "# Size of our encoded representation\n",
    "encoding_dim = 32\n",
    "\n",
    "# This is our input image\n",
    "input_img = keras.Input(shape = (784,))\n",
    "# This is our encoded representation of input\n",
    "encoded = layers.Dense(encoding_dim, activation = 'relu')(input_img)\n",
    "# decoded is the lossy resconstruction of input\n",
    "decoded = layers.Dense(784, activation ='sigmoid')(encoded)\n",
    "\n",
    "# Instantiating the autoencoder model\n",
    "autoencoder = keras.Model(input_img, decoded)"
   ]
  },
  {
   "cell_type": "code",
   "execution_count": 13,
   "metadata": {},
   "outputs": [],
   "source": [
    "# Let's create separate models for encoder and decoder\n",
    "\n",
    "# encoder\n",
    "encoder = keras.Model(input_img,encoded)\n",
    "\n",
    "#decoder\n",
    "\n",
    "# This is our encoding (32 dimensional) input\n",
    "encoded_input = keras.Input(shape =(encoding_dim,))\n",
    "\n",
    "decoder_layer = autoencoder.layers[-1] # retrieve last layer of autoencoder\n",
    "\n",
    "decoder = keras.Model(encoded_input, decoder_layer(encoded_input))"
   ]
  },
  {
   "cell_type": "code",
   "execution_count": 38,
   "metadata": {},
   "outputs": [],
   "source": [
    "# configuring the model\n",
    "autoencoder.compile(optimizer = 'adam', loss='binary_crossentropy')"
   ]
  },
  {
   "cell_type": "code",
   "execution_count": 39,
   "metadata": {
    "scrolled": true
   },
   "outputs": [
    {
     "name": "stdout",
     "output_type": "stream",
     "text": [
      "Train on 60000 samples, validate on 10000 samples\n",
      "Epoch 1/50\n",
      "60000/60000 [==============================] - 2s 36us/step - loss: 0.2769 - val_loss: 0.1909\n",
      "Epoch 2/50\n",
      "60000/60000 [==============================] - 2s 33us/step - loss: 0.1712 - val_loss: 0.1534\n",
      "Epoch 3/50\n",
      "60000/60000 [==============================] - 2s 40us/step - loss: 0.1437 - val_loss: 0.1329\n",
      "Epoch 4/50\n",
      "60000/60000 [==============================] - 2s 36us/step - loss: 0.1275 - val_loss: 0.1202\n",
      "Epoch 5/50\n",
      "60000/60000 [==============================] - 2s 35us/step - loss: 0.1168 - val_loss: 0.1113\n",
      "Epoch 6/50\n",
      "60000/60000 [==============================] - 2s 32us/step - loss: 0.1095 - val_loss: 0.1053\n",
      "Epoch 7/50\n",
      "60000/60000 [==============================] - 2s 30us/step - loss: 0.1044 - val_loss: 0.1012\n",
      "Epoch 8/50\n",
      "60000/60000 [==============================] - 2s 35us/step - loss: 0.1010 - val_loss: 0.0984\n",
      "Epoch 9/50\n",
      "60000/60000 [==============================] - 2s 36us/step - loss: 0.0986 - val_loss: 0.0967\n",
      "Epoch 10/50\n",
      "60000/60000 [==============================] - 2s 33us/step - loss: 0.0970 - val_loss: 0.0951\n",
      "Epoch 11/50\n",
      "60000/60000 [==============================] - 2s 30us/step - loss: 0.0959 - val_loss: 0.0942\n",
      "Epoch 12/50\n",
      "60000/60000 [==============================] - 2s 30us/step - loss: 0.0952 - val_loss: 0.0937\n",
      "Epoch 13/50\n",
      "60000/60000 [==============================] - 2s 31us/step - loss: 0.0947 - val_loss: 0.0933\n",
      "Epoch 14/50\n",
      "60000/60000 [==============================] - 2s 39us/step - loss: 0.0944 - val_loss: 0.0930\n",
      "Epoch 15/50\n",
      "60000/60000 [==============================] - 2s 33us/step - loss: 0.0941 - val_loss: 0.0928\n",
      "Epoch 16/50\n",
      "60000/60000 [==============================] - 2s 31us/step - loss: 0.0939 - val_loss: 0.0927\n",
      "Epoch 17/50\n",
      "60000/60000 [==============================] - 2s 33us/step - loss: 0.0938 - val_loss: 0.0926\n",
      "Epoch 18/50\n",
      "60000/60000 [==============================] - 2s 30us/step - loss: 0.0937 - val_loss: 0.0924\n",
      "Epoch 19/50\n",
      "60000/60000 [==============================] - 2s 29us/step - loss: 0.0936 - val_loss: 0.0923\n",
      "Epoch 20/50\n",
      "60000/60000 [==============================] - 2s 30us/step - loss: 0.0935 - val_loss: 0.0923\n",
      "Epoch 21/50\n",
      "60000/60000 [==============================] - 2s 29us/step - loss: 0.0934 - val_loss: 0.0922\n",
      "Epoch 22/50\n",
      "60000/60000 [==============================] - 2s 30us/step - loss: 0.0933 - val_loss: 0.0922\n",
      "Epoch 23/50\n",
      "60000/60000 [==============================] - 2s 29us/step - loss: 0.0933 - val_loss: 0.0921\n",
      "Epoch 24/50\n",
      "60000/60000 [==============================] - 2s 30us/step - loss: 0.0932 - val_loss: 0.0921\n",
      "Epoch 25/50\n",
      "60000/60000 [==============================] - 2s 29us/step - loss: 0.0932 - val_loss: 0.0921\n",
      "Epoch 26/50\n",
      "60000/60000 [==============================] - 2s 29us/step - loss: 0.0931 - val_loss: 0.0919\n",
      "Epoch 27/50\n",
      "60000/60000 [==============================] - 2s 30us/step - loss: 0.0931 - val_loss: 0.0920\n",
      "Epoch 28/50\n",
      "60000/60000 [==============================] - 2s 30us/step - loss: 0.0931 - val_loss: 0.0920\n",
      "Epoch 29/50\n",
      "60000/60000 [==============================] - 2s 29us/step - loss: 0.0931 - val_loss: 0.0919\n",
      "Epoch 30/50\n",
      "60000/60000 [==============================] - 2s 30us/step - loss: 0.0930 - val_loss: 0.0921\n",
      "Epoch 31/50\n",
      "60000/60000 [==============================] - 2s 30us/step - loss: 0.0930 - val_loss: 0.0919\n",
      "Epoch 32/50\n",
      "60000/60000 [==============================] - 2s 30us/step - loss: 0.0930 - val_loss: 0.0919\n",
      "Epoch 33/50\n",
      "60000/60000 [==============================] - 2s 30us/step - loss: 0.0930 - val_loss: 0.0920\n",
      "Epoch 34/50\n",
      "60000/60000 [==============================] - 2s 29us/step - loss: 0.0929 - val_loss: 0.0919\n",
      "Epoch 35/50\n",
      "60000/60000 [==============================] - 2s 29us/step - loss: 0.0929 - val_loss: 0.0919\n",
      "Epoch 36/50\n",
      "60000/60000 [==============================] - 2s 34us/step - loss: 0.0929 - val_loss: 0.0919\n",
      "Epoch 37/50\n",
      "60000/60000 [==============================] - 2s 33us/step - loss: 0.0929 - val_loss: 0.0919\n",
      "Epoch 38/50\n",
      "60000/60000 [==============================] - 2s 32us/step - loss: 0.0929 - val_loss: 0.0918\n",
      "Epoch 39/50\n",
      "60000/60000 [==============================] - 2s 31us/step - loss: 0.0929 - val_loss: 0.0918\n",
      "Epoch 40/50\n",
      "60000/60000 [==============================] - 2s 30us/step - loss: 0.0929 - val_loss: 0.0919\n",
      "Epoch 41/50\n",
      "60000/60000 [==============================] - 2s 34us/step - loss: 0.0928 - val_loss: 0.0918\n",
      "Epoch 42/50\n",
      "60000/60000 [==============================] - 2s 31us/step - loss: 0.0928 - val_loss: 0.0919\n",
      "Epoch 43/50\n",
      "60000/60000 [==============================] - 2s 32us/step - loss: 0.0928 - val_loss: 0.0918\n",
      "Epoch 44/50\n",
      "60000/60000 [==============================] - 2s 34us/step - loss: 0.0928 - val_loss: 0.0918\n",
      "Epoch 45/50\n",
      "60000/60000 [==============================] - 2s 32us/step - loss: 0.0928 - val_loss: 0.0918\n",
      "Epoch 46/50\n",
      "60000/60000 [==============================] - 2s 32us/step - loss: 0.0928 - val_loss: 0.0918\n",
      "Epoch 47/50\n",
      "60000/60000 [==============================] - 2s 32us/step - loss: 0.0928 - val_loss: 0.0918\n",
      "Epoch 48/50\n",
      "60000/60000 [==============================] - 2s 33us/step - loss: 0.0928 - val_loss: 0.0917\n",
      "Epoch 49/50\n",
      "60000/60000 [==============================] - 2s 33us/step - loss: 0.0928 - val_loss: 0.0917\n",
      "Epoch 50/50\n",
      "60000/60000 [==============================] - 2s 34us/step - loss: 0.0928 - val_loss: 0.0917\n"
     ]
    },
    {
     "data": {
      "text/plain": [
       "<keras.callbacks.callbacks.History at 0x14d8e41dcc0>"
      ]
     },
     "execution_count": 39,
     "metadata": {},
     "output_type": "execute_result"
    }
   ],
   "source": [
    "# training the model\n",
    "autoencoder.fit(x_train,x_train,\n",
    "                epochs = 50,\n",
    "                batch_size = 256,\n",
    "                shuffle = True,\n",
    "                validation_data =(x_test, x_test))"
   ]
  },
  {
   "cell_type": "code",
   "execution_count": 40,
   "metadata": {},
   "outputs": [],
   "source": [
    "# Encode and decode some digits from test set\n",
    "encoded_imgs = encoder.predict(x_test)\n",
    "decoded_imgs = decoder.predict(encoded_imgs)"
   ]
  },
  {
   "cell_type": "code",
   "execution_count": 41,
   "metadata": {},
   "outputs": [
    {
     "data": {
      "image/png": "[encoded data removed]",
      "text/plain": [
       "<Figure size 1440x288 with 20 Axes>"
      ]
     },
     "metadata": {
      "needs_background": "light"
     },
     "output_type": "display_data"
    }
   ],
   "source": [
    "n = 10  # How many digits we will display\n",
    "plt.figure(figsize=(20, 4))\n",
    "for i in range(n):\n",
    "    # Display original\n",
    "    ax = plt.subplot(2, n, i + 1)\n",
    "    plt.imshow(x_test[i].reshape(28, 28))\n",
    "    plt.gray()\n",
    "    ax.get_xaxis().set_visible(False)\n",
    "    ax.get_yaxis().set_visible(False)\n",
    "\n",
    "    # Display reconstruction\n",
    "    ax = plt.subplot(2, n, i + 1 + n)\n",
    "    plt.imshow(decoded_imgs[i].reshape(28, 28))\n",
    "    plt.gray()\n",
    "    ax.get_xaxis().set_visible(False)\n",
    "    ax.get_yaxis().set_visible(False)\n",
    "plt.show()"
   ]
  },
  {
   "cell_type": "markdown",
   "metadata": {},
   "source": [
    "***2) Sparse Autoencoders -*** Another way to constrain the representations to be compact is to add sparsity constraint on the activity of hidden representations, so **fewer units would \"fire\"** at a given time. In keras we can do this by adding **activity_regularizer** to the dense layer. We can also train our network for longer time as with added regularzation the model is less likely to overfit."
   ]
  },
  {
   "cell_type": "code",
   "execution_count": 69,
   "metadata": {},
   "outputs": [],
   "source": [
    "from keras import regularizers\n",
    "encoding_dim = 32\n",
    "input_img = keras.Input(shape=(784,))\n",
    "\n",
    "encoded = layers.Dense(encoding_dim, activation = 'relu', \n",
    "                       activity_regularizer=regularizers.l1(10e-5))(input_img)\n",
    "decoded = layers.Dense(784, activation ='sigmoid')(encoded)\n",
    "\n",
    "SparseAutoEncoders = keras.Model(input_img,decoded)"
   ]
  },
  {
   "cell_type": "code",
   "execution_count": 70,
   "metadata": {},
   "outputs": [
    {
     "data": {
      "image/png": "[encoded data removed]",
      "text/plain": [
       "<IPython.core.display.Image object>"
      ]
     },
     "execution_count": 70,
     "metadata": {},
     "output_type": "execute_result"
    }
   ],
   "source": [
    "# plot_model(SparseAutoEncoders)"
   ]
  },
  {
   "cell_type": "code",
   "execution_count": 71,
   "metadata": {
    "scrolled": true
   },
   "outputs": [
    {
     "name": "stdout",
     "output_type": "stream",
     "text": [
      "Train on 60000 samples, validate on 10000 samples\n",
      "Epoch 1/100\n",
      "60000/60000 [==============================] - 2s 36us/step - loss: 0.6555 - val_loss: 0.6154\n",
      "Epoch 2/100\n",
      "60000/60000 [==============================] - 2s 33us/step - loss: 0.5831 - val_loss: 0.5534\n",
      "Epoch 3/100\n",
      "60000/60000 [==============================] - 2s 31us/step - loss: 0.5273 - val_loss: 0.5037\n",
      "Epoch 4/100\n",
      "60000/60000 [==============================] - 2s 31us/step - loss: 0.4826 - val_loss: 0.4637\n",
      "Epoch 5/100\n",
      "60000/60000 [==============================] - 2s 32us/step - loss: 0.4465 - val_loss: 0.4313\n",
      "Epoch 6/100\n",
      "60000/60000 [==============================] - 2s 31us/step - loss: 0.4173 - val_loss: 0.4049\n",
      "Epoch 7/100\n",
      "60000/60000 [==============================] - 2s 31us/step - loss: 0.3934 - val_loss: 0.3833\n",
      "Epoch 8/100\n",
      "60000/60000 [==============================] - 2s 33us/step - loss: 0.3738 - val_loss: 0.3655\n",
      "Epoch 9/100\n",
      "60000/60000 [==============================] - 2s 33us/step - loss: 0.3576 - val_loss: 0.3508\n",
      "Epoch 10/100\n",
      "60000/60000 [==============================] - 2s 32us/step - loss: 0.3441 - val_loss: 0.3385\n",
      "Epoch 11/100\n",
      "60000/60000 [==============================] - 2s 33us/step - loss: 0.3329 - val_loss: 0.3281\n",
      "Epoch 12/100\n",
      "60000/60000 [==============================] - 2s 31us/step - loss: 0.3234 - val_loss: 0.3194\n",
      "Epoch 13/100\n",
      "60000/60000 [==============================] - 2s 32us/step - loss: 0.3154 - val_loss: 0.3119\n",
      "Epoch 14/100\n",
      "60000/60000 [==============================] - 2s 31us/step - loss: 0.3086 - val_loss: 0.3056\n",
      "Epoch 15/100\n",
      "60000/60000 [==============================] - 2s 32us/step - loss: 0.3027 - val_loss: 0.3002\n",
      "Epoch 16/100\n",
      "60000/60000 [==============================] - 2s 31us/step - loss: 0.2977 - val_loss: 0.2955\n",
      "Epoch 17/100\n",
      "60000/60000 [==============================] - 2s 32us/step - loss: 0.2934 - val_loss: 0.2915\n",
      "Epoch 18/100\n",
      "60000/60000 [==============================] - 2s 32us/step - loss: 0.2897 - val_loss: 0.2880\n",
      "Epoch 19/100\n",
      "60000/60000 [==============================] - 2s 31us/step - loss: 0.2864 - val_loss: 0.2850\n",
      "Epoch 20/100\n",
      "60000/60000 [==============================] - 2s 31us/step - loss: 0.2836 - val_loss: 0.2823\n",
      "Epoch 21/100\n",
      "60000/60000 [==============================] - 2s 32us/step - loss: 0.2812 - val_loss: 0.2800\n",
      "Epoch 22/100\n",
      "60000/60000 [==============================] - 2s 32us/step - loss: 0.2790 - val_loss: 0.2780\n",
      "Epoch 23/100\n",
      "60000/60000 [==============================] - 2s 32us/step - loss: 0.2772 - val_loss: 0.2762\n",
      "Epoch 24/100\n",
      "60000/60000 [==============================] - 2s 31us/step - loss: 0.2755 - val_loss: 0.2746\n",
      "Epoch 25/100\n",
      "60000/60000 [==============================] - 2s 31us/step - loss: 0.2741 - val_loss: 0.2733\n",
      "Epoch 26/100\n",
      "60000/60000 [==============================] - 2s 31us/step - loss: 0.2728 - val_loss: 0.2721\n",
      "Epoch 27/100\n",
      "60000/60000 [==============================] - 2s 31us/step - loss: 0.2717 - val_loss: 0.2710\n",
      "Epoch 28/100\n",
      "60000/60000 [==============================] - 2s 33us/step - loss: 0.2707 - val_loss: 0.2700\n",
      "Epoch 29/100\n",
      "60000/60000 [==============================] - 2s 32us/step - loss: 0.2698 - val_loss: 0.2692\n",
      "Epoch 30/100\n",
      "60000/60000 [==============================] - 2s 31us/step - loss: 0.2690 - val_loss: 0.2685\n",
      "Epoch 31/100\n",
      "60000/60000 [==============================] - 2s 31us/step - loss: 0.2683 - val_loss: 0.2678\n",
      "Epoch 32/100\n",
      "60000/60000 [==============================] - 2s 32us/step - loss: 0.2677 - val_loss: 0.2672\n",
      "Epoch 33/100\n",
      "60000/60000 [==============================] - 2s 31us/step - loss: 0.2672 - val_loss: 0.2667\n",
      "Epoch 34/100\n",
      "60000/60000 [==============================] - 2s 31us/step - loss: 0.2667 - val_loss: 0.2663\n",
      "Epoch 35/100\n",
      "60000/60000 [==============================] - 2s 32us/step - loss: 0.2663 - val_loss: 0.2658\n",
      "Epoch 36/100\n",
      "60000/60000 [==============================] - 2s 32us/step - loss: 0.2659 - val_loss: 0.2655\n",
      "Epoch 37/100\n",
      "60000/60000 [==============================] - 2s 35us/step - loss: 0.2656 - val_loss: 0.2652\n",
      "Epoch 38/100\n",
      "60000/60000 [==============================] - 2s 32us/step - loss: 0.2653 - val_loss: 0.2649\n",
      "Epoch 39/100\n",
      "60000/60000 [==============================] - 2s 34us/step - loss: 0.2650 - val_loss: 0.2646\n",
      "Epoch 40/100\n",
      "60000/60000 [==============================] - 2s 40us/step - loss: 0.2648 - val_loss: 0.2644\n",
      "Epoch 41/100\n",
      "60000/60000 [==============================] - 2s 38us/step - loss: 0.2645 - val_loss: 0.2642\n",
      "Epoch 42/100\n",
      "60000/60000 [==============================] - 2s 32us/step - loss: 0.2644 - val_loss: 0.2640\n",
      "Epoch 43/100\n",
      "60000/60000 [==============================] - 2s 35us/step - loss: 0.2642 - val_loss: 0.2638\n",
      "Epoch 44/100\n",
      "60000/60000 [==============================] - 2s 37us/step - loss: 0.2640 - val_loss: 0.2637\n",
      "Epoch 45/100\n",
      "60000/60000 [==============================] - 2s 32us/step - loss: 0.2639 - val_loss: 0.2636\n",
      "Epoch 46/100\n",
      "60000/60000 [==============================] - 2s 32us/step - loss: 0.2638 - val_loss: 0.2635\n",
      "Epoch 47/100\n",
      "60000/60000 [==============================] - 2s 32us/step - loss: 0.2637 - val_loss: 0.2633\n",
      "Epoch 48/100\n",
      "60000/60000 [==============================] - 2s 32us/step - loss: 0.2636 - val_loss: 0.2633\n",
      "Epoch 49/100\n",
      "60000/60000 [==============================] - 2s 31us/step - loss: 0.2635 - val_loss: 0.2632\n",
      "Epoch 50/100\n",
      "60000/60000 [==============================] - 2s 32us/step - loss: 0.2634 - val_loss: 0.2631\n",
      "Epoch 51/100\n",
      "60000/60000 [==============================] - 2s 32us/step - loss: 0.2634 - val_loss: 0.2630\n",
      "Epoch 52/100\n",
      "60000/60000 [==============================] - 2s 32us/step - loss: 0.2633 - val_loss: 0.2630\n",
      "Epoch 53/100\n",
      "60000/60000 [==============================] - 2s 32us/step - loss: 0.2632 - val_loss: 0.2629\n",
      "Epoch 54/100\n",
      "60000/60000 [==============================] - 2s 32us/step - loss: 0.2632 - val_loss: 0.2629\n",
      "Epoch 55/100\n",
      "60000/60000 [==============================] - 2s 32us/step - loss: 0.2631 - val_loss: 0.2628\n",
      "Epoch 56/100\n",
      "60000/60000 [==============================] - 2s 32us/step - loss: 0.2631 - val_loss: 0.2628\n",
      "Epoch 57/100\n",
      "60000/60000 [==============================] - 2s 32us/step - loss: 0.2631 - val_loss: 0.2628\n",
      "Epoch 58/100\n",
      "60000/60000 [==============================] - 2s 32us/step - loss: 0.2630 - val_loss: 0.2628\n",
      "Epoch 59/100\n",
      "60000/60000 [==============================] - 2s 32us/step - loss: 0.2630 - val_loss: 0.2627\n",
      "Epoch 60/100\n",
      "60000/60000 [==============================] - 2s 33us/step - loss: 0.2630 - val_loss: 0.2627\n",
      "Epoch 61/100\n",
      "60000/60000 [==============================] - 2s 32us/step - loss: 0.2630 - val_loss: 0.2627\n",
      "Epoch 62/100\n",
      "60000/60000 [==============================] - 2s 32us/step - loss: 0.2630 - val_loss: 0.2627\n",
      "Epoch 63/100\n",
      "60000/60000 [==============================] - 2s 32us/step - loss: 0.2629 - val_loss: 0.2626\n",
      "Epoch 64/100\n",
      "60000/60000 [==============================] - 2s 32us/step - loss: 0.2629 - val_loss: 0.2626\n",
      "Epoch 65/100\n",
      "60000/60000 [==============================] - 2s 32us/step - loss: 0.2629 - val_loss: 0.2626\n",
      "Epoch 66/100\n",
      "60000/60000 [==============================] - 2s 32us/step - loss: 0.2629 - val_loss: 0.2626\n",
      "Epoch 67/100\n",
      "60000/60000 [==============================] - 2s 32us/step - loss: 0.2629 - val_loss: 0.2626\n",
      "Epoch 68/100\n",
      "60000/60000 [==============================] - 2s 32us/step - loss: 0.2629 - val_loss: 0.2626\n",
      "Epoch 69/100\n",
      "60000/60000 [==============================] - 2s 32us/step - loss: 0.2629 - val_loss: 0.2626\n",
      "Epoch 70/100\n",
      "60000/60000 [==============================] - 2s 33us/step - loss: 0.2629 - val_loss: 0.2626\n",
      "Epoch 71/100\n",
      "60000/60000 [==============================] - 2s 33us/step - loss: 0.2629 - val_loss: 0.2626\n",
      "Epoch 72/100\n",
      "60000/60000 [==============================] - 2s 33us/step - loss: 0.2628 - val_loss: 0.2626\n",
      "Epoch 73/100\n",
      "60000/60000 [==============================] - 2s 36us/step - loss: 0.2628 - val_loss: 0.2626\n",
      "Epoch 74/100\n",
      "60000/60000 [==============================] - 2s 33us/step - loss: 0.2628 - val_loss: 0.2625\n",
      "Epoch 75/100\n",
      "60000/60000 [==============================] - 2s 34us/step - loss: 0.2628 - val_loss: 0.2625\n",
      "Epoch 76/100\n",
      "60000/60000 [==============================] - 2s 33us/step - loss: 0.2628 - val_loss: 0.2625\n",
      "Epoch 77/100\n",
      "60000/60000 [==============================] - 2s 35us/step - loss: 0.2628 - val_loss: 0.2625\n",
      "Epoch 78/100\n",
      "60000/60000 [==============================] - 2s 34us/step - loss: 0.2628 - val_loss: 0.2625\n",
      "Epoch 79/100\n",
      "60000/60000 [==============================] - 2s 31us/step - loss: 0.2628 - val_loss: 0.2625\n",
      "Epoch 80/100\n",
      "60000/60000 [==============================] - 2s 31us/step - loss: 0.2628 - val_loss: 0.2625\n",
      "Epoch 81/100\n",
      "60000/60000 [==============================] - 2s 31us/step - loss: 0.2628 - val_loss: 0.2625\n",
      "Epoch 82/100\n",
      "60000/60000 [==============================] - 2s 30us/step - loss: 0.2628 - val_loss: 0.2625\n",
      "Epoch 83/100\n",
      "60000/60000 [==============================] - 2s 40us/step - loss: 0.2628 - val_loss: 0.2625\n",
      "Epoch 84/100\n",
      "60000/60000 [==============================] - 2s 29us/step - loss: 0.2628 - val_loss: 0.2625\n",
      "Epoch 85/100\n",
      "60000/60000 [==============================] - 2s 36us/step - loss: 0.2628 - val_loss: 0.2625\n",
      "Epoch 86/100\n",
      "60000/60000 [==============================] - 3s 55us/step - loss: 0.2628 - val_loss: 0.2625\n",
      "Epoch 87/100\n",
      "60000/60000 [==============================] - 2s 31us/step - loss: 0.2628 - val_loss: 0.2625\n",
      "Epoch 88/100\n",
      "60000/60000 [==============================] - 2s 36us/step - loss: 0.2628 - val_loss: 0.2625\n",
      "Epoch 89/100\n",
      "60000/60000 [==============================] - 2s 29us/step - loss: 0.2628 - val_loss: 0.2625\n",
      "Epoch 90/100\n",
      "60000/60000 [==============================] - 2s 36us/step - loss: 0.2628 - val_loss: 0.2625\n",
      "Epoch 91/100\n",
      "60000/60000 [==============================] - 2s 30us/step - loss: 0.2628 - val_loss: 0.2625\n",
      "Epoch 92/100\n",
      "60000/60000 [==============================] - 2s 37us/step - loss: 0.2628 - val_loss: 0.2625\n",
      "Epoch 93/100\n",
      "60000/60000 [==============================] - 2s 33us/step - loss: 0.2628 - val_loss: 0.2625\n",
      "Epoch 94/100\n",
      "60000/60000 [==============================] - 2s 36us/step - loss: 0.2628 - val_loss: 0.2625\n",
      "Epoch 95/100\n",
      "60000/60000 [==============================] - 2s 31us/step - loss: 0.2628 - val_loss: 0.2625\n",
      "Epoch 96/100\n",
      "60000/60000 [==============================] - 2s 32us/step - loss: 0.2628 - val_loss: 0.2625\n",
      "Epoch 97/100\n",
      "60000/60000 [==============================] - 2s 33us/step - loss: 0.2628 - val_loss: 0.2625\n",
      "Epoch 98/100\n",
      "60000/60000 [==============================] - 2s 34us/step - loss: 0.2628 - val_loss: 0.2625\n",
      "Epoch 99/100\n",
      "60000/60000 [==============================] - 2s 33us/step - loss: 0.2628 - val_loss: 0.2625\n",
      "Epoch 100/100\n",
      "60000/60000 [==============================] - 2s 33us/step - loss: 0.2628 - val_loss: 0.2625\n"
     ]
    },
    {
     "data": {
      "text/plain": [
       "<keras.callbacks.callbacks.History at 0x14d8ca32ac8>"
      ]
     },
     "execution_count": 71,
     "metadata": {},
     "output_type": "execute_result"
    }
   ],
   "source": [
    "SparseAutoEncoders.compile(optimizer = 'adam', loss = 'binary_crossentropy')\n",
    "SparseAutoEncoders.fit(x_train,x_train,\n",
    "                      epochs = 100,\n",
    "                      batch_size = 256,\n",
    "                      validation_data = (x_test,x_test))"
   ]
  },
  {
   "cell_type": "code",
   "execution_count": 72,
   "metadata": {},
   "outputs": [],
   "source": [
    "# Encode and decode some digits from test set\n",
    "encoded_imgs = encoder.predict(x_test)\n",
    "decoded_imgs = decoder.predict(encoded_imgs)"
   ]
  },
  {
   "cell_type": "code",
   "execution_count": 73,
   "metadata": {},
   "outputs": [
    {
     "data": {
      "image/png": "[encoded data removed]",
      "text/plain": [
       "<Figure size 1440x288 with 20 Axes>"
      ]
     },
     "metadata": {
      "needs_background": "light"
     },
     "output_type": "display_data"
    }
   ],
   "source": [
    "n = 10  # How many digits we will display\n",
    "plt.figure(figsize=(20, 4))\n",
    "for i in range(n):\n",
    "    # Display original\n",
    "    ax = plt.subplot(2, n, i + 1)\n",
    "    plt.imshow(x_test[i].reshape(28, 28))\n",
    "    plt.gray()\n",
    "    ax.get_xaxis().set_visible(False)\n",
    "    ax.get_yaxis().set_visible(False)\n",
    "\n",
    "    # Display reconstruction\n",
    "    ax = plt.subplot(2, n, i + 1 + n)\n",
    "    plt.imshow(decoded_imgs[i].reshape(28, 28))\n",
    "    plt.gray()\n",
    "    ax.get_xaxis().set_visible(False)\n",
    "    ax.get_yaxis().set_visible(False)\n",
    "plt.show()"
   ]
  },
  {
   "cell_type": "markdown",
   "metadata": {},
   "source": [
    "***2) Deep Autoencoders -*** Until now we had a single layer of encoder and decoder. We'll build a network (having more layers)"
   ]
  },
  {
   "cell_type": "code",
   "execution_count": 31,
   "metadata": {
    "scrolled": true
   },
   "outputs": [
    {
     "name": "stdout",
     "output_type": "stream",
     "text": [
      "Train on 60000 samples, validate on 10000 samples\n",
      "Epoch 1/100\n",
      "60000/60000 [==============================] - 3s 57us/step - loss: 0.2493 - val_loss: 0.1688\n",
      "Epoch 2/100\n",
      "60000/60000 [==============================] - 3s 54us/step - loss: 0.1524 - val_loss: 0.1397\n",
      "Epoch 3/100\n",
      "60000/60000 [==============================] - 3s 51us/step - loss: 0.1341 - val_loss: 0.1262\n",
      "Epoch 4/100\n",
      "60000/60000 [==============================] - 3s 52us/step - loss: 0.1229 - val_loss: 0.1169\n",
      "Epoch 5/100\n",
      "60000/60000 [==============================] - 3s 53us/step - loss: 0.1158 - val_loss: 0.1118\n",
      "Epoch 6/100\n",
      "60000/60000 [==============================] - 3s 52us/step - loss: 0.1113 - val_loss: 0.1081\n",
      "Epoch 7/100\n",
      "60000/60000 [==============================] - 3s 52us/step - loss: 0.1079 - val_loss: 0.1050\n",
      "Epoch 8/100\n",
      "60000/60000 [==============================] - 3s 53us/step - loss: 0.1048 - val_loss: 0.1021\n",
      "Epoch 9/100\n",
      "60000/60000 [==============================] - 3s 52us/step - loss: 0.1022 - val_loss: 0.1004\n",
      "Epoch 10/100\n",
      "60000/60000 [==============================] - 3s 52us/step - loss: 0.1001 - val_loss: 0.0982\n",
      "Epoch 11/100\n",
      "60000/60000 [==============================] - 4s 59us/step - loss: 0.0985 - val_loss: 0.0973\n",
      "Epoch 12/100\n",
      "60000/60000 [==============================] - 3s 57us/step - loss: 0.0974 - val_loss: 0.0959\n",
      "Epoch 13/100\n",
      "60000/60000 [==============================] - 3s 53us/step - loss: 0.0964 - val_loss: 0.0949\n",
      "Epoch 14/100\n",
      "60000/60000 [==============================] - 3s 54us/step - loss: 0.0955 - val_loss: 0.0940\n",
      "Epoch 15/100\n",
      "60000/60000 [==============================] - 4s 59us/step - loss: 0.0946 - val_loss: 0.0933\n",
      "Epoch 16/100\n",
      "60000/60000 [==============================] - 3s 52us/step - loss: 0.0938 - val_loss: 0.0928\n",
      "Epoch 17/100\n",
      "60000/60000 [==============================] - 3s 53us/step - loss: 0.0931 - val_loss: 0.0919\n",
      "Epoch 18/100\n",
      "60000/60000 [==============================] - 3s 53us/step - loss: 0.0925 - val_loss: 0.0913\n",
      "Epoch 19/100\n",
      "60000/60000 [==============================] - 3s 56us/step - loss: 0.0918 - val_loss: 0.0907\n",
      "Epoch 20/100\n",
      "60000/60000 [==============================] - 3s 58us/step - loss: 0.0913 - val_loss: 0.0903\n",
      "Epoch 21/100\n",
      "60000/60000 [==============================] - 3s 52us/step - loss: 0.0908 - val_loss: 0.0900\n",
      "Epoch 22/100\n",
      "60000/60000 [==============================] - 4s 59us/step - loss: 0.0904 - val_loss: 0.0897\n",
      "Epoch 23/100\n",
      "60000/60000 [==============================] - 3s 48us/step - loss: 0.0900 - val_loss: 0.0890\n",
      "Epoch 24/100\n",
      "60000/60000 [==============================] - 3s 52us/step - loss: 0.0896 - val_loss: 0.0890\n",
      "Epoch 25/100\n",
      "60000/60000 [==============================] - 3s 54us/step - loss: 0.0892 - val_loss: 0.0884\n",
      "Epoch 26/100\n",
      "60000/60000 [==============================] - 3s 53us/step - loss: 0.0889 - val_loss: 0.0879\n",
      "Epoch 27/100\n",
      "60000/60000 [==============================] - 3s 51us/step - loss: 0.0886 - val_loss: 0.0877\n",
      "Epoch 28/100\n",
      "60000/60000 [==============================] - 3s 50us/step - loss: 0.0882 - val_loss: 0.0874\n",
      "Epoch 29/100\n",
      "60000/60000 [==============================] - 3s 50us/step - loss: 0.0880 - val_loss: 0.0872\n",
      "Epoch 30/100\n",
      "60000/60000 [==============================] - 3s 56us/step - loss: 0.0877 - val_loss: 0.0872\n",
      "Epoch 31/100\n",
      "60000/60000 [==============================] - 3s 55us/step - loss: 0.0874 - val_loss: 0.0866\n",
      "Epoch 32/100\n",
      "60000/60000 [==============================] - 3s 53us/step - loss: 0.0871 - val_loss: 0.0864\n",
      "Epoch 33/100\n",
      "60000/60000 [==============================] - 3s 58us/step - loss: 0.0869 - val_loss: 0.0864\n",
      "Epoch 34/100\n",
      "60000/60000 [==============================] - 3s 53us/step - loss: 0.0867 - val_loss: 0.0860\n",
      "Epoch 35/100\n",
      "60000/60000 [==============================] - 3s 52us/step - loss: 0.0865 - val_loss: 0.0859\n",
      "Epoch 36/100\n",
      "60000/60000 [==============================] - 3s 51us/step - loss: 0.0863 - val_loss: 0.0858\n",
      "Epoch 37/100\n",
      "60000/60000 [==============================] - 4s 59us/step - loss: 0.0861 - val_loss: 0.0857\n",
      "Epoch 38/100\n",
      "60000/60000 [==============================] - 3s 55us/step - loss: 0.0859 - val_loss: 0.0856\n",
      "Epoch 39/100\n",
      "60000/60000 [==============================] - 3s 53us/step - loss: 0.0858 - val_loss: 0.0858\n",
      "Epoch 40/100\n",
      "60000/60000 [==============================] - 3s 50us/step - loss: 0.0856 - val_loss: 0.0850\n",
      "Epoch 41/100\n",
      "60000/60000 [==============================] - 3s 50us/step - loss: 0.0855 - val_loss: 0.0848\n",
      "Epoch 42/100\n",
      "60000/60000 [==============================] - 4s 63us/step - loss: 0.0853 - val_loss: 0.0847\n",
      "Epoch 43/100\n",
      "60000/60000 [==============================] - 3s 54us/step - loss: 0.0851 - val_loss: 0.0846\n",
      "Epoch 44/100\n",
      "60000/60000 [==============================] - 3s 47us/step - loss: 0.0850 - val_loss: 0.0847\n",
      "Epoch 45/100\n",
      "60000/60000 [==============================] - 3s 56us/step - loss: 0.0848 - val_loss: 0.0846\n",
      "Epoch 46/100\n",
      "60000/60000 [==============================] - 4s 63us/step - loss: 0.0847 - val_loss: 0.0842\n",
      "Epoch 47/100\n",
      "60000/60000 [==============================] - 3s 52us/step - loss: 0.0845 - val_loss: 0.0842\n",
      "Epoch 48/100\n",
      "60000/60000 [==============================] - 3s 52us/step - loss: 0.0843 - val_loss: 0.0841\n",
      "Epoch 49/100\n",
      "60000/60000 [==============================] - 3s 49us/step - loss: 0.0842 - val_loss: 0.0838\n",
      "Epoch 50/100\n",
      "60000/60000 [==============================] - 3s 47us/step - loss: 0.0840 - val_loss: 0.0835\n",
      "Epoch 51/100\n",
      "60000/60000 [==============================] - 3s 50us/step - loss: 0.0839 - val_loss: 0.0836\n",
      "Epoch 52/100\n",
      "60000/60000 [==============================] - 3s 52us/step - loss: 0.0837 - val_loss: 0.0831\n",
      "Epoch 53/100\n",
      "60000/60000 [==============================] - 3s 55us/step - loss: 0.0836 - val_loss: 0.0834\n",
      "Epoch 54/100\n",
      "60000/60000 [==============================] - 4s 59us/step - loss: 0.0835 - val_loss: 0.0836\n",
      "Epoch 55/100\n",
      "60000/60000 [==============================] - 4s 59us/step - loss: 0.0833 - val_loss: 0.0832\n",
      "Epoch 56/100\n",
      "60000/60000 [==============================] - 4s 62us/step - loss: 0.0832 - val_loss: 0.0828\n",
      "Epoch 57/100\n",
      "60000/60000 [==============================] - 3s 47us/step - loss: 0.0831 - val_loss: 0.0830\n",
      "Epoch 58/100\n",
      "60000/60000 [==============================] - 3s 55us/step - loss: 0.0830 - val_loss: 0.0825\n",
      "Epoch 59/100\n",
      "60000/60000 [==============================] - 4s 59us/step - loss: 0.0829 - val_loss: 0.0826\n",
      "Epoch 60/100\n",
      "60000/60000 [==============================] - 4s 63us/step - loss: 0.0828 - val_loss: 0.0826\n",
      "Epoch 61/100\n",
      "60000/60000 [==============================] - 5s 75us/step - loss: 0.0827 - val_loss: 0.0827\n",
      "Epoch 62/100\n",
      "60000/60000 [==============================] - 4s 59us/step - loss: 0.0827 - val_loss: 0.0826\n",
      "Epoch 63/100\n",
      "60000/60000 [==============================] - 3s 49us/step - loss: 0.0826 - val_loss: 0.0824\n",
      "Epoch 64/100\n",
      "60000/60000 [==============================] - 3s 47us/step - loss: 0.0826 - val_loss: 0.0823\n",
      "Epoch 65/100\n",
      "60000/60000 [==============================] - 3s 47us/step - loss: 0.0825 - val_loss: 0.0821\n",
      "Epoch 66/100\n",
      "60000/60000 [==============================] - 3s 46us/step - loss: 0.0824 - val_loss: 0.0820\n",
      "Epoch 67/100\n",
      "60000/60000 [==============================] - 3s 49us/step - loss: 0.0823 - val_loss: 0.0821\n",
      "Epoch 68/100\n",
      "60000/60000 [==============================] - 3s 51us/step - loss: 0.0823 - val_loss: 0.0822\n",
      "Epoch 69/100\n",
      "60000/60000 [==============================] - 3s 51us/step - loss: 0.0822 - val_loss: 0.0819\n",
      "Epoch 70/100\n",
      "60000/60000 [==============================] - 4s 72us/step - loss: 0.0821 - val_loss: 0.0819\n",
      "Epoch 71/100\n",
      "60000/60000 [==============================] - 3s 57us/step - loss: 0.0821 - val_loss: 0.0820\n",
      "Epoch 72/100\n",
      "60000/60000 [==============================] - 3s 56us/step - loss: 0.0820 - val_loss: 0.0816\n",
      "Epoch 73/100\n",
      "60000/60000 [==============================] - 4s 59us/step - loss: 0.0820 - val_loss: 0.0818\n",
      "Epoch 74/100\n",
      "60000/60000 [==============================] - 3s 50us/step - loss: 0.0819 - val_loss: 0.0817\n",
      "Epoch 75/100\n",
      "60000/60000 [==============================] - 4s 59us/step - loss: 0.0819 - val_loss: 0.0817\n",
      "Epoch 76/100\n",
      "60000/60000 [==============================] - 4s 60us/step - loss: 0.0818 - val_loss: 0.0820\n",
      "Epoch 77/100\n"
     ]
    },
    {
     "name": "stdout",
     "output_type": "stream",
     "text": [
      "60000/60000 [==============================] - 3s 49us/step - loss: 0.0818 - val_loss: 0.0816\n",
      "Epoch 78/100\n",
      "60000/60000 [==============================] - 3s 50us/step - loss: 0.0817 - val_loss: 0.0813\n",
      "Epoch 79/100\n",
      "60000/60000 [==============================] - 3s 56us/step - loss: 0.0817 - val_loss: 0.0817\n",
      "Epoch 80/100\n",
      "60000/60000 [==============================] - 3s 55us/step - loss: 0.0817 - val_loss: 0.0820\n",
      "Epoch 81/100\n",
      "60000/60000 [==============================] - 3s 50us/step - loss: 0.0817 - val_loss: 0.0815\n",
      "Epoch 82/100\n",
      "60000/60000 [==============================] - 3s 49us/step - loss: 0.0816 - val_loss: 0.0814\n",
      "Epoch 83/100\n",
      "60000/60000 [==============================] - 3s 51us/step - loss: 0.0815 - val_loss: 0.0813\n",
      "Epoch 84/100\n",
      "60000/60000 [==============================] - 3s 50us/step - loss: 0.0815 - val_loss: 0.0811\n",
      "Epoch 85/100\n",
      "60000/60000 [==============================] - 3s 56us/step - loss: 0.0814 - val_loss: 0.0813\n",
      "Epoch 86/100\n",
      "60000/60000 [==============================] - 3s 50us/step - loss: 0.0814 - val_loss: 0.0813\n",
      "Epoch 87/100\n",
      "60000/60000 [==============================] - 3s 49us/step - loss: 0.0814 - val_loss: 0.0816\n",
      "Epoch 88/100\n",
      "60000/60000 [==============================] - 3s 49us/step - loss: 0.0813 - val_loss: 0.0811\n",
      "Epoch 89/100\n",
      "60000/60000 [==============================] - 3s 47us/step - loss: 0.0813 - val_loss: 0.0813\n",
      "Epoch 90/100\n",
      "60000/60000 [==============================] - 3s 48us/step - loss: 0.0813 - val_loss: 0.0811\n",
      "Epoch 91/100\n",
      "60000/60000 [==============================] - 3s 48us/step - loss: 0.0813 - val_loss: 0.0811\n",
      "Epoch 92/100\n",
      "60000/60000 [==============================] - 3s 49us/step - loss: 0.0812 - val_loss: 0.0812\n",
      "Epoch 93/100\n",
      "60000/60000 [==============================] - 3s 51us/step - loss: 0.0812 - val_loss: 0.0811\n",
      "Epoch 94/100\n",
      "60000/60000 [==============================] - 3s 49us/step - loss: 0.0812 - val_loss: 0.0812\n",
      "Epoch 95/100\n",
      "60000/60000 [==============================] - 3s 48us/step - loss: 0.0811 - val_loss: 0.0810\n",
      "Epoch 96/100\n",
      "60000/60000 [==============================] - 3s 47us/step - loss: 0.0811 - val_loss: 0.0812\n",
      "Epoch 97/100\n",
      "60000/60000 [==============================] - 4s 59us/step - loss: 0.0811 - val_loss: 0.0809\n",
      "Epoch 98/100\n",
      "60000/60000 [==============================] - 5s 79us/step - loss: 0.0811 - val_loss: 0.0811\n",
      "Epoch 99/100\n",
      "60000/60000 [==============================] - 5s 79us/step - loss: 0.0810 - val_loss: 0.0807\n",
      "Epoch 100/100\n",
      "60000/60000 [==============================] - 4s 63us/step - loss: 0.0810 - val_loss: 0.0809\n"
     ]
    },
    {
     "data": {
      "text/plain": [
       "<keras.callbacks.callbacks.History at 0x23a44a0b550>"
      ]
     },
     "execution_count": 31,
     "metadata": {},
     "output_type": "execute_result"
    }
   ],
   "source": [
    "encoding_dim = 32\n",
    "input_img = keras.Input(shape=(784,))\n",
    "\n",
    "encoded = layers.Dense(128, activation = 'relu')(input_img)\n",
    "encoded = layers.Dense(64, activation ='relu')(encoded)\n",
    "encoded = layers.Dense(encoding_dim, activation = 'relu')(encoded)\n",
    "\n",
    "decoded = layers.Dense(64, activation ='relu')(encoded)\n",
    "decoded = layers.Dense(128, activation ='relu')(decoded)\n",
    "decoded = layers.Dense(784, activation ='sigmoid')(decoded)\n",
    "\n",
    "DeepAutoEncoder = keras.Model(input_img, decoded)\n",
    "DeepAutoEncoder.compile(optimizer = 'Adam', loss = 'binary_crossentropy')\n",
    "DeepAutoEncoder.fit(x_train,x_train,\n",
    "                    epochs = 100,\n",
    "                    batch_size = 256,\n",
    "                    shuffle = True,\n",
    "                    validation_data = (x_test,x_test))\n"
   ]
  },
  {
   "cell_type": "code",
   "execution_count": 32,
   "metadata": {},
   "outputs": [],
   "source": [
    "# encoder\n",
    "encoder = keras.Model(input_img, encoded)\n",
    "encoded_input = keras.Input(shape=(encoding_dim,))\n",
    "# decoder\n",
    "decoder_layer1 = DeepAutoEncoder.layers[-3]\n",
    "decoder_layer2 = DeepAutoEncoder.layers[-2]\n",
    "decoder_layer3 = DeepAutoEncoder.layers[-1]\n",
    "decoder = keras.Model(encoded_input, \n",
    "                      decoder_layer3(decoder_layer2(decoder_layer1(encoded_input))))"
   ]
  },
  {
   "cell_type": "code",
   "execution_count": 33,
   "metadata": {},
   "outputs": [],
   "source": [
    "# Encode and decode some digits from test set\n",
    "encoded_imgs = encoder.predict(x_test)\n",
    "decoded_imgs = decoder.predict(encoded_imgs)"
   ]
  },
  {
   "cell_type": "code",
   "execution_count": 34,
   "metadata": {},
   "outputs": [
    {
     "data": {
      "image/png": "[encoded data removed]",
      "text/plain": [
       "<Figure size 1440x288 with 20 Axes>"
      ]
     },
     "metadata": {
      "needs_background": "light"
     },
     "output_type": "display_data"
    }
   ],
   "source": [
    "n = 10  # How many digits we will display\n",
    "plt.figure(figsize=(20, 4))\n",
    "for i in range(n):\n",
    "    # Display original\n",
    "    ax = plt.subplot(2, n, i + 1)\n",
    "    plt.imshow(x_test[i].reshape(28, 28))\n",
    "    plt.gray()\n",
    "    ax.get_xaxis().set_visible(False)\n",
    "    ax.get_yaxis().set_visible(False)\n",
    "\n",
    "    # Display reconstruction\n",
    "    ax = plt.subplot(2, n, i + 1 + n)\n",
    "    plt.imshow(decoded_imgs[i].reshape(28, 28))\n",
    "    plt.gray()\n",
    "    ax.get_xaxis().set_visible(False)\n",
    "    ax.get_yaxis().set_visible(False)\n",
    "plt.show()"
   ]
  },
  {
   "cell_type": "markdown",
   "metadata": {},
   "source": [
    "The loss decreased in comparison with the other two models ~0.08. This deep autoencoder is a better model than the above two."
   ]
  },
  {
   "cell_type": "markdown",
   "metadata": {},
   "source": [
    "#### [Visualizing the latent space of deep autoencoders using scatter plot]()\n",
    "\n",
    "***We will take reduce the images features from 784 to 2 features so that we can plot them on a two-dimensional plane.***"
   ]
  },
  {
   "cell_type": "code",
   "execution_count": 6,
   "metadata": {},
   "outputs": [
    {
     "name": "stdout",
     "output_type": "stream",
     "text": [
      "Train on 60000 samples, validate on 10000 samples\n",
      "Epoch 1/20\n",
      "60000/60000 [==============================] - 9s 143us/step - loss: 0.0749 - val_loss: 0.0568\n",
      "Epoch 2/20\n",
      "60000/60000 [==============================] - 8s 137us/step - loss: 0.0532 - val_loss: 0.0498\n",
      "Epoch 3/20\n",
      "60000/60000 [==============================] - 8s 134us/step - loss: 0.0477 - val_loss: 0.0457\n",
      "Epoch 4/20\n",
      "60000/60000 [==============================] - 8s 133us/step - loss: 0.0447 - val_loss: 0.0435\n",
      "Epoch 5/20\n",
      "60000/60000 [==============================] - 8s 134us/step - loss: 0.0430 - val_loss: 0.0422\n",
      "Epoch 6/20\n",
      "60000/60000 [==============================] - 8s 134us/step - loss: 0.0417 - val_loss: 0.0408\n",
      "Epoch 7/20\n",
      "60000/60000 [==============================] - 8s 132us/step - loss: 0.0407 - val_loss: 0.0402\n",
      "Epoch 8/20\n",
      "60000/60000 [==============================] - 8s 133us/step - loss: 0.0400 - val_loss: 0.0397\n",
      "Epoch 9/20\n",
      "60000/60000 [==============================] - 8s 133us/step - loss: 0.0394 - val_loss: 0.0391\n",
      "Epoch 10/20\n",
      "60000/60000 [==============================] - 8s 136us/step - loss: 0.0389 - val_loss: 0.0388\n",
      "Epoch 11/20\n",
      "60000/60000 [==============================] - 8s 134us/step - loss: 0.0386 - val_loss: 0.0384\n",
      "Epoch 12/20\n",
      "60000/60000 [==============================] - 8s 136us/step - loss: 0.0382 - val_loss: 0.0380\n",
      "Epoch 13/20\n",
      "60000/60000 [==============================] - 8s 133us/step - loss: 0.0378 - val_loss: 0.0380\n",
      "Epoch 14/20\n",
      "60000/60000 [==============================] - 8s 132us/step - loss: 0.0379 - val_loss: 0.0379\n",
      "Epoch 15/20\n",
      "60000/60000 [==============================] - 8s 134us/step - loss: 0.0375 - val_loss: 0.0374\n",
      "Epoch 16/20\n",
      "60000/60000 [==============================] - 8s 134us/step - loss: 0.0372 - val_loss: 0.0373\n",
      "Epoch 17/20\n",
      "60000/60000 [==============================] - 8s 137us/step - loss: 0.0369 - val_loss: 0.0371\n",
      "Epoch 18/20\n",
      "60000/60000 [==============================] - 8s 135us/step - loss: 0.0366 - val_loss: 0.0368\n",
      "Epoch 19/20\n",
      "60000/60000 [==============================] - 8s 133us/step - loss: 0.0366 - val_loss: 0.0369\n",
      "Epoch 20/20\n",
      "60000/60000 [==============================] - 8s 134us/step - loss: 0.0363 - val_loss: 0.0367\n"
     ]
    },
    {
     "data": {
      "text/plain": [
       "<keras.callbacks.callbacks.History at 0x1a764b43cc0>"
      ]
     },
     "execution_count": 6,
     "metadata": {},
     "output_type": "execute_result"
    }
   ],
   "source": [
    "encoding_dim = 2\n",
    "input_img = keras.Input(shape=(784,))\n",
    "\n",
    "encoded = layers.Dense(512, activation ='relu')(input_img)\n",
    "encoded = layers.Dense(128, activation = 'relu')(encoded)\n",
    "encoded = layers.Dense(64, activation ='relu')(encoded)\n",
    "encoded = layers.Dense(encoding_dim, activation = 'relu')(encoded)\n",
    "\n",
    "#encoder\n",
    "encoder = keras.Model(input_img, encoded)\n",
    "\n",
    "encoding_input = keras.Input(shape=(encoding_dim,))\n",
    "\n",
    "decoded = layers.Dense(64, activation ='relu')(encoded)\n",
    "decoded = layers.Dense(128, activation ='relu')(decoded)\n",
    "decoded = layers.Dense(512, activation ='relu')(decoded)\n",
    "decoded = layers.Dense(784, activation ='sigmoid')(decoded)\n",
    "\n",
    "\n",
    "\n",
    "DeepAutoEncoder = keras.Model(input_img, decoded)\n",
    "DeepAutoEncoder.compile(optimizer = 'Adam', loss = 'mse')\n",
    "\n",
    "#decoder\n",
    "decoder_layer1 = DeepAutoEncoder.layers[-4]\n",
    "decoder_layer2 = DeepAutoEncoder.layers[-3]\n",
    "decoder_layer3 = DeepAutoEncoder.layers[-2]\n",
    "decoder_layer4 = DeepAutoEncoder.layers[-1]\n",
    "\n",
    "decoder = keras.Model(encoding_input, decoder_layer4(decoder_layer3(decoder_layer2(decoder_layer1(encoding_input)))))\n",
    "\n",
    "DeepAutoEncoder.fit(x_train,x_train,\n",
    "                    epochs = 20,\n",
    "                    batch_size = 256,\n",
    "                    shuffle = True,\n",
    "                    validation_data = (x_test,x_test))"
   ]
  },
  {
   "cell_type": "code",
   "execution_count": 8,
   "metadata": {},
   "outputs": [],
   "source": [
    "encoded_imgs = encoder.predict(x_test)\n",
    "decoded_imgs = decoder.predict(encoded_imgs)"
   ]
  },
  {
   "cell_type": "code",
   "execution_count": 9,
   "metadata": {},
   "outputs": [
    {
     "data": {
      "image/png": "[encoded data removed]",
      "text/plain": [
       "<Figure size 1440x288 with 20 Axes>"
      ]
     },
     "metadata": {
      "needs_background": "light"
     },
     "output_type": "display_data"
    }
   ],
   "source": [
    "n = 10  # How many digits we will display\n",
    "plt.figure(figsize=(20, 4))\n",
    "for i in range(n):\n",
    "    # Display original\n",
    "    ax = plt.subplot(2, n, i + 1)\n",
    "    plt.imshow(x_test[i].reshape(28, 28))\n",
    "    plt.gray()\n",
    "    ax.get_xaxis().set_visible(False)\n",
    "    ax.get_yaxis().set_visible(False)\n",
    "\n",
    "    # Display reconstruction\n",
    "    ax = plt.subplot(2, n, i + 1 + n)\n",
    "    plt.imshow(decoded_imgs[i].reshape(28, 28))\n",
    "    plt.gray()\n",
    "    ax.get_xaxis().set_visible(False)\n",
    "    ax.get_yaxis().set_visible(False)\n",
    "plt.show()"
   ]
  },
  {
   "cell_type": "markdown",
   "metadata": {},
   "source": [
    "#### Visualizing the latent space"
   ]
  },
  {
   "cell_type": "code",
   "execution_count": 17,
   "metadata": {},
   "outputs": [
    {
     "data": {
      "text/plain": [
       "<matplotlib.collections.PathCollection at 0x1a76da14668>"
      ]
     },
     "execution_count": 17,
     "metadata": {},
     "output_type": "execute_result"
    },
    {
     "data": {
      "image/png": "[encoded data removed]",
      "text/plain": [
       "<Figure size 432x288 with 1 Axes>"
      ]
     },
     "metadata": {
      "needs_background": "light"
     },
     "output_type": "display_data"
    }
   ],
   "source": [
    "plt.scatter(x=encoded_imgs[:,0],encoded_imgs[:,1], c = y_test, s =8, cmap='tab10')"
   ]
  },
  {
   "cell_type": "code",
   "execution_count": null,
   "metadata": {},
   "outputs": [],
   "source": []
  }
 ],
 "metadata": {
  "kernelspec": {
   "display_name": "Python 3",
   "language": "python",
   "name": "python3"
  },
  "language_info": {
   "codemirror_mode": {
    "name": "ipython",
    "version": 3
   },
   "file_extension": ".py",
   "mimetype": "text/x-python",
   "name": "python",
   "nbconvert_exporter": "python",
   "pygments_lexer": "ipython3",
   "version": "3.7.3"
  }
 },
 "nbformat": 4,
 "nbformat_minor": 4
}
