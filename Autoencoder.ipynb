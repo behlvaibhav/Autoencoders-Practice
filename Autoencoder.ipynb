{
 "cells": [
  {
   "cell_type": "markdown",
   "metadata": {},
   "source": [
    "### Autoencoders - Practice with mnist dataset"
   ]
  },
  {
   "cell_type": "markdown",
   "metadata": {},
   "source": [
    "***1) Simplest Autoencoder with a single fully connected neural layer as encoder and decoder***"
   ]
  },
  {
   "cell_type": "code",
   "execution_count": 1,
   "metadata": {},
   "outputs": [
    {
     "name": "stderr",
     "output_type": "stream",
     "text": [
      "Using TensorFlow backend.\n"
     ]
    }
   ],
   "source": [
    "import keras\n",
    "from keras import layers\n",
    "from keras.datasets import mnist\n",
    "import numpy as np"
   ]
  },
  {
   "cell_type": "markdown",
   "metadata": {},
   "source": [
    "*Let's prepare out input data first. We will normalize all the values between 0 and 1 and we will flatten the 28x28 images into vectors of size 784.*"
   ]
  },
  {
   "cell_type": "code",
   "execution_count": 2,
   "metadata": {},
   "outputs": [],
   "source": [
    "(x_train,_),(x_test,_) = mnist.load_data()\n",
    "\n",
    "# normalizing the values between 0 and 1\n",
    "x_train = x_train.astype('float32')/255\n",
    "x_test = x_test.astype('float32')/255"
   ]
  },
  {
   "cell_type": "code",
   "execution_count": 5,
   "metadata": {},
   "outputs": [
    {
     "name": "stdout",
     "output_type": "stream",
     "text": [
      "(60000, 28, 28)\n",
      "(10000, 28, 28)\n"
     ]
    }
   ],
   "source": [
    "print(x_train.shape)\n",
    "print(x_test.shape)"
   ]
  },
  {
   "cell_type": "code",
   "execution_count": 10,
   "metadata": {},
   "outputs": [],
   "source": [
    "# Converting to 1D Array (Vector respresentation)\n",
    "x_train = x_train.reshape(-1, np.prod(x_train.shape[1:]))\n",
    "x_test = x_test.reshape(-1, np.prod(x_test.shape[1:]))"
   ]
  },
  {
   "cell_type": "code",
   "execution_count": 11,
   "metadata": {},
   "outputs": [
    {
     "name": "stdout",
     "output_type": "stream",
     "text": [
      "(60000, 784)\n",
      "(10000, 784)\n"
     ]
    }
   ],
   "source": [
    "print(x_train.shape)\n",
    "print(x_test.shape)"
   ]
  },
  {
   "cell_type": "code",
   "execution_count": 17,
   "metadata": {},
   "outputs": [],
   "source": [
    "# Architecture of Autoencoder\n",
    "\n",
    "# Size of our encoded representation\n",
    "encoding_dim = 32\n",
    "\n",
    "# This is our input image\n",
    "input_img = keras.Input(shape = (784,))\n",
    "# This is our encoded representation of input\n",
    "encoded = layers.Dense(encoding_dim, activation = 'relu')(input_img)\n",
    "# decoded is the lossy resconstruction of input\n",
    "decoded = layers.Dense(784, activation ='sigmoid')(encoded)\n",
    "\n",
    "# Instantiating the autoencoder model\n",
    "autoencoder = keras.Model(input_img, decoded)"
   ]
  },
  {
   "cell_type": "code",
   "execution_count": 23,
   "metadata": {},
   "outputs": [],
   "source": [
    "# Let's create separate models for encoder and decoder\n",
    "\n",
    "# encoder\n",
    "encoder = keras.Model(input_img,encoded)\n",
    "\n",
    "#decoder\n",
    "\n",
    "# This is our encoding (32 dimensional) input\n",
    "encoded_input = keras.Input(shape =(encoding_dim,))\n",
    "\n",
    "decoder_layer = autoencoder.layers[-1] # retrieve last layer of autoencoder\n",
    "\n",
    "decoder = keras.Model(encoded_input, decoder_layer(encoded_input))"
   ]
  },
  {
   "cell_type": "code",
   "execution_count": 19,
   "metadata": {},
   "outputs": [],
   "source": [
    "# configuring the model\n",
    "autoencoder.compile(optimizer = 'adam', loss='binary_crossentropy')"
   ]
  },
  {
   "cell_type": "code",
   "execution_count": 21,
   "metadata": {},
   "outputs": [
    {
     "name": "stdout",
     "output_type": "stream",
     "text": [
      "Train on 60000 samples, validate on 10000 samples\n",
      "Epoch 1/50\n",
      "60000/60000 [==============================] - 3s 48us/step - loss: 0.2778 - val_loss: 0.1905\n",
      "Epoch 2/50\n",
      "60000/60000 [==============================] - 2s 35us/step - loss: 0.1723 - val_loss: 0.1543\n",
      "Epoch 3/50\n",
      "60000/60000 [==============================] - 2s 35us/step - loss: 0.1445 - val_loss: 0.1337\n",
      "Epoch 4/50\n",
      "60000/60000 [==============================] - 2s 35us/step - loss: 0.1288 - val_loss: 0.1216\n",
      "Epoch 5/50\n",
      "60000/60000 [==============================] - 2s 34us/step - loss: 0.1189 - val_loss: 0.1137\n",
      "Epoch 6/50\n",
      "60000/60000 [==============================] - 2s 36us/step - loss: 0.1121 - val_loss: 0.1080\n",
      "Epoch 7/50\n",
      "60000/60000 [==============================] - 2s 34us/step - loss: 0.1072 - val_loss: 0.1038\n",
      "Epoch 8/50\n",
      "60000/60000 [==============================] - 2s 34us/step - loss: 0.1034 - val_loss: 0.1003\n",
      "Epoch 9/50\n",
      "60000/60000 [==============================] - 2s 34us/step - loss: 0.1003 - val_loss: 0.0977\n",
      "Epoch 10/50\n",
      "60000/60000 [==============================] - 2s 33us/step - loss: 0.0981 - val_loss: 0.0958\n",
      "Epoch 11/50\n",
      "60000/60000 [==============================] - 2s 35us/step - loss: 0.0965 - val_loss: 0.0945\n",
      "Epoch 12/50\n",
      "60000/60000 [==============================] - 2s 33us/step - loss: 0.0956 - val_loss: 0.0937\n",
      "Epoch 13/50\n",
      "60000/60000 [==============================] - 2s 35us/step - loss: 0.0949 - val_loss: 0.0932\n",
      "Epoch 14/50\n",
      "60000/60000 [==============================] - 2s 34us/step - loss: 0.0945 - val_loss: 0.0928\n",
      "Epoch 15/50\n",
      "60000/60000 [==============================] - 2s 33us/step - loss: 0.0942 - val_loss: 0.0926\n",
      "Epoch 16/50\n",
      "60000/60000 [==============================] - 2s 34us/step - loss: 0.0939 - val_loss: 0.0924\n",
      "Epoch 17/50\n",
      "60000/60000 [==============================] - 2s 34us/step - loss: 0.0937 - val_loss: 0.0923\n",
      "Epoch 18/50\n",
      "60000/60000 [==============================] - 2s 35us/step - loss: 0.0936 - val_loss: 0.0921\n",
      "Epoch 19/50\n",
      "60000/60000 [==============================] - 2s 34us/step - loss: 0.0935 - val_loss: 0.0920\n",
      "Epoch 20/50\n",
      "60000/60000 [==============================] - 2s 34us/step - loss: 0.0934 - val_loss: 0.0920\n",
      "Epoch 21/50\n",
      "60000/60000 [==============================] - 2s 33us/step - loss: 0.0933 - val_loss: 0.0919\n",
      "Epoch 22/50\n",
      "60000/60000 [==============================] - 2s 33us/step - loss: 0.0932 - val_loss: 0.0918\n",
      "Epoch 23/50\n",
      "60000/60000 [==============================] - 2s 34us/step - loss: 0.0932 - val_loss: 0.0917\n",
      "Epoch 24/50\n",
      "60000/60000 [==============================] - 2s 34us/step - loss: 0.0931 - val_loss: 0.0917\n",
      "Epoch 25/50\n",
      "60000/60000 [==============================] - 2s 34us/step - loss: 0.0930 - val_loss: 0.0917\n",
      "Epoch 26/50\n",
      "60000/60000 [==============================] - 2s 34us/step - loss: 0.0930 - val_loss: 0.0917\n",
      "Epoch 27/50\n",
      "60000/60000 [==============================] - 2s 33us/step - loss: 0.0930 - val_loss: 0.0917\n",
      "Epoch 28/50\n",
      "60000/60000 [==============================] - 2s 35us/step - loss: 0.0929 - val_loss: 0.0916\n",
      "Epoch 29/50\n",
      "60000/60000 [==============================] - 2s 34us/step - loss: 0.0929 - val_loss: 0.0916\n",
      "Epoch 30/50\n",
      "60000/60000 [==============================] - 2s 34us/step - loss: 0.0929 - val_loss: 0.0916\n",
      "Epoch 31/50\n",
      "60000/60000 [==============================] - 2s 34us/step - loss: 0.0928 - val_loss: 0.0916\n",
      "Epoch 32/50\n",
      "60000/60000 [==============================] - 2s 34us/step - loss: 0.0928 - val_loss: 0.0916\n",
      "Epoch 33/50\n",
      "60000/60000 [==============================] - 2s 36us/step - loss: 0.0928 - val_loss: 0.0915\n",
      "Epoch 34/50\n",
      "60000/60000 [==============================] - 2s 34us/step - loss: 0.0928 - val_loss: 0.0915\n",
      "Epoch 35/50\n",
      "60000/60000 [==============================] - 2s 35us/step - loss: 0.0928 - val_loss: 0.0915\n",
      "Epoch 36/50\n",
      "60000/60000 [==============================] - 2s 34us/step - loss: 0.0927 - val_loss: 0.0915\n",
      "Epoch 37/50\n",
      "60000/60000 [==============================] - 2s 34us/step - loss: 0.0927 - val_loss: 0.0915\n",
      "Epoch 38/50\n",
      "60000/60000 [==============================] - ETA: 0s - loss: 0.092 - 2s 34us/step - loss: 0.0927 - val_loss: 0.0915\n",
      "Epoch 39/50\n",
      "60000/60000 [==============================] - 2s 34us/step - loss: 0.0927 - val_loss: 0.0915\n",
      "Epoch 40/50\n",
      "60000/60000 [==============================] - 2s 35us/step - loss: 0.0927 - val_loss: 0.0915\n",
      "Epoch 41/50\n",
      "60000/60000 [==============================] - 2s 34us/step - loss: 0.0926 - val_loss: 0.0915\n",
      "Epoch 42/50\n",
      "60000/60000 [==============================] - 2s 37us/step - loss: 0.0926 - val_loss: 0.0915\n",
      "Epoch 43/50\n",
      "60000/60000 [==============================] - 2s 35us/step - loss: 0.0926 - val_loss: 0.0915\n",
      "Epoch 44/50\n",
      "60000/60000 [==============================] - 2s 33us/step - loss: 0.0926 - val_loss: 0.0914\n",
      "Epoch 45/50\n",
      "60000/60000 [==============================] - 2s 34us/step - loss: 0.0926 - val_loss: 0.0915\n",
      "Epoch 46/50\n",
      "60000/60000 [==============================] - 2s 34us/step - loss: 0.0926 - val_loss: 0.0914\n",
      "Epoch 47/50\n",
      "60000/60000 [==============================] - 2s 34us/step - loss: 0.0926 - val_loss: 0.0914\n",
      "Epoch 48/50\n",
      "60000/60000 [==============================] - 2s 34us/step - loss: 0.0925 - val_loss: 0.0914\n",
      "Epoch 49/50\n",
      "60000/60000 [==============================] - 2s 34us/step - loss: 0.0925 - val_loss: 0.0915\n",
      "Epoch 50/50\n",
      "60000/60000 [==============================] - 2s 35us/step - loss: 0.0925 - val_loss: 0.0914\n"
     ]
    },
    {
     "data": {
      "text/plain": [
       "<keras.callbacks.callbacks.History at 0x14d8403ca20>"
      ]
     },
     "execution_count": 21,
     "metadata": {},
     "output_type": "execute_result"
    }
   ],
   "source": [
    "# training the model\n",
    "autoencoder.fit(x_train,x_train,\n",
    "                epochs = 50,\n",
    "                batch_size = 256,\n",
    "                shuffle = True,\n",
    "                validation_data =(x_test, x_test))"
   ]
  },
  {
   "cell_type": "code",
   "execution_count": 24,
   "metadata": {},
   "outputs": [],
   "source": [
    "# Encode and decode some digits from test set\n",
    "encoded_imgs = encoder.predict(x_test)\n",
    "decoded_imgs = decoder.predict(encoded_imgs)"
   ]
  },
  {
   "cell_type": "code",
   "execution_count": 28,
   "metadata": {},
   "outputs": [
    {
     "data": {
      "image/png": "[encoded data removed]",
      "text/plain": [
       "<Figure size 1440x288 with 20 Axes>"
      ]
     },
     "metadata": {
      "needs_background": "light"
     },
     "output_type": "display_data"
    }
   ],
   "source": [
    "import matplotlib.pyplot as plt\n",
    "\n",
    "n = 10  # How many digits we will display\n",
    "plt.figure(figsize=(20, 4))\n",
    "for i in range(n):\n",
    "    # Display original\n",
    "    ax = plt.subplot(2, n, i + 1)\n",
    "    plt.imshow(x_test[i].reshape(28, 28))\n",
    "    plt.gray()\n",
    "    ax.get_xaxis().set_visible(False)\n",
    "    ax.get_yaxis().set_visible(False)\n",
    "\n",
    "    # Display reconstruction\n",
    "    ax = plt.subplot(2, n, i + 1 + n)\n",
    "    plt.imshow(decoded_imgs[i].reshape(28, 28))\n",
    "    plt.gray()\n",
    "    ax.get_xaxis().set_visible(False)\n",
    "    ax.get_yaxis().set_visible(False)\n",
    "plt.show()"
   ]
  },
  {
   "cell_type": "code",
   "execution_count": null,
   "metadata": {},
   "outputs": [],
   "source": []
  }
 ],
 "metadata": {
  "kernelspec": {
   "display_name": "Python 3",
   "language": "python",
   "name": "python3"
  },
  "language_info": {
   "codemirror_mode": {
    "name": "ipython",
    "version": 3
   },
   "file_extension": ".py",
   "mimetype": "text/x-python",
   "name": "python",
   "nbconvert_exporter": "python",
   "pygments_lexer": "ipython3",
   "version": "3.7.3"
  }
 },
 "nbformat": 4,
 "nbformat_minor": 4
}
